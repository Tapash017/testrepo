{
 "cells": [
  {
   "cell_type": "markdown",
   "id": "e95a8245-5e71-4e8f-9bc3-a4979fccfaa4",
   "metadata": {},
   "source": [
    "# Data Science Tools and Ecosystem"
   ]
  },
  {
   "cell_type": "markdown",
   "id": "07a1c2b5-7eee-4e59-89b3-10d5325cc7d8",
   "metadata": {},
   "source": [
    "In this notebook, Data Science Tools and Ecosystem are summarized"
   ]
  },
  {
   "cell_type": "markdown",
   "id": "621e9c22-6771-4ccb-976c-026b75617a67",
   "metadata": {},
   "source": [
    "Some of the popular languages that Data Scientists use are:"
   ]
  },
  {
   "cell_type": "markdown",
   "id": "1604db7b-38c7-49ab-9f62-8502d1b98338",
   "metadata": {},
   "source": [
    "Ordered List:\n",
    "Python\n",
    "R\n",
    "Java"
   ]
  },
  {
   "cell_type": "markdown",
   "id": "5718de22-533b-4a5f-a169-c2842cc9b078",
   "metadata": {},
   "source": [
    "\n",
    "| Data Science Tools | \n",
    "|_ _ _ _ _ _ _ _ _ _ |\n",
    "| JupyterLab         | \n",
    "| RStudio            | \n",
    "| Apache Zepeelin    |\n",
    "\n"
   ]
  },
  {
   "cell_type": "markdown",
   "id": "3fc1b563-bc70-486a-946b-13a7181d769a",
   "metadata": {},
   "source": [
    "### Below are a few examples of evaluating arithmetic expressions in Python"
   ]
  },
  {
   "cell_type": "markdown",
   "id": "f8a0e98d-23bc-44c8-9c10-918302bb4ef2",
   "metadata": {},
   "source": [
    " This a simple arithmetic expression to mutiply then add integers\n",
    " "
   ]
  },
  {
   "cell_type": "code",
   "execution_count": 4,
   "id": "f77b556d-fca4-4243-a102-b56720e1888d",
   "metadata": {},
   "outputs": [],
   "source": [
    "\n",
    "x = 3\n",
    "y = 4\n",
    "z = 5\n"
   ]
  },
  {
   "cell_type": "code",
   "execution_count": 6,
   "id": "beb2dcbb-ec09-4a8f-ae06-b5c297c27b23",
   "metadata": {},
   "outputs": [
    {
     "name": "stdout",
     "output_type": "stream",
     "text": [
      "17\n"
     ]
    }
   ],
   "source": [
    "A= (x * y) + z\n",
    "print(A)"
   ]
  },
  {
   "cell_type": "code",
   "execution_count": 7,
   "id": "db16f8b3-2a50-4913-9420-7074c6992ced",
   "metadata": {},
   "outputs": [
    {
     "data": {
      "text/plain": [
       "3.3333333333333335"
      ]
     },
     "execution_count": 7,
     "metadata": {},
     "output_type": "execute_result"
    }
   ],
   "source": [
    "# This will convert 200 minutes to hours by dividing by 60\n",
    "\n",
    "minutes = 200\n",
    "hours = minutes/60\n",
    "hours"
   ]
  },
  {
   "cell_type": "markdown",
   "id": "e140067a-8d63-48be-bfcd-63d23fe97836",
   "metadata": {},
   "source": [
    "Markdown cell contents:\n",
    "\n",
    "**Objectives**\n",
    "- Understand how to convert time units using Python\n",
    "- Learn basic Python Syntax and expressions\n",
    "- Explore markdown formatting in Jupyter Notebooks\n",
    "  "
   ]
  },
  {
   "cell_type": "markdown",
   "id": "86d9539d-9109-4bd0-a870-91ea49f66e38",
   "metadata": {},
   "source": [
    "**Author:** Tapash Das"
   ]
  },
  {
   "cell_type": "code",
   "execution_count": null,
   "id": "0ee73e8c-26d3-4e74-a82c-5c23de5b0faf",
   "metadata": {},
   "outputs": [],
   "source": []
  }
 ],
 "metadata": {
  "kernelspec": {
   "display_name": "Python 3 (ipykernel)",
   "language": "python",
   "name": "python3"
  },
  "language_info": {
   "codemirror_mode": {
    "name": "ipython",
    "version": 3
   },
   "file_extension": ".py",
   "mimetype": "text/x-python",
   "name": "python",
   "nbconvert_exporter": "python",
   "pygments_lexer": "ipython3",
   "version": "3.12.7"
  }
 },
 "nbformat": 4,
 "nbformat_minor": 5
}
